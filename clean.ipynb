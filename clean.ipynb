{
 "cells": [
  {
   "cell_type": "code",
   "execution_count": 5,
   "id": "44f394ce",
   "metadata": {},
   "outputs": [
    {
     "name": "stdout",
     "output_type": "stream",
     "text": [
      "✅ تم تحويل الليبلز وحذف NEUTRAL/OBJ وحفظ الملف كـ cleaned_dataset.csv\n"
     ]
    }
   ],
   "source": [
    "import pandas as pd\n",
    "\n",
    "# تحميل البيانات مع تحديد أسماء الأعمدة\n",
    "df = pd.read_csv(\"Data/Tweets.txt\", sep=None, engine=\"python\", on_bad_lines='skip', header=None, names=[\"text\", \"label\"])  # غير الاسم حسب ملفك\n",
    "\n",
    "# حذف NEUTRAL و OBJ\n",
    "df = df[~df[\"label\"].str.lower().isin([\"neutral\", \"obj\"])]\n",
    "\n",
    "# قوائم كلمات مفتاحية لكل حالة\n",
    "anxiety_keywords = [\"قلق\", \"توتر\", \"خايف\", \"مش مرتاح\", \"نرفوزي\", \"أتوتر\", \"وسواس\"]\n",
    "depression_keywords = [\"اكتئاب\", \"محبط\", \"تعبان\", \"مش قادر\", \"مش طايق\", \"يأس\", \"مفيش فايدة\", \"بائس\"]\n",
    "stress_keywords = [\"ضغط\", \"مسؤوليات\", \"مشغول\", \"زهقان\", \"كله عليا\", \"حمل كبير\"]\n",
    "normal_keywords = [\"سعيد\", \"مرتاح\", \"مبسوط\", \"فخور\", \"تمام\", \"كويس\", \"متحمس\"]\n",
    "\n",
    "def map_label(text, original_label):\n",
    "    text = str(text).lower()\n",
    "    label = original_label.lower()\n",
    "\n",
    "    if label == \"pos\":\n",
    "        return \"Normal\"\n",
    "    elif label == \"neg\":\n",
    "        if any(word in text for word in anxiety_keywords):\n",
    "            return \"Anxiety\"\n",
    "        elif any(word in text for word in depression_keywords):\n",
    "            return \"Depression\"\n",
    "        elif any(word in text for word in stress_keywords):\n",
    "            return \"Stress\"\n",
    "        else:\n",
    "            return \"Anxiety\"  # أو \"Unknown\" حسب رغبتك\n",
    "    else:\n",
    "        return None  # لن تظهر لأننا حذفناهم بالفعل\n",
    "\n",
    "# تطبيق التعديل على الليبل\n",
    "df[\"new_label\"] = df.apply(lambda row: map_label(row[\"text\"], row[\"label\"]), axis=1)\n",
    "\n",
    "# حذف أي صف لم يتم تصنيفه (احتياطيًا)\n",
    "df = df[df[\"new_label\"].notnull()]\n",
    "\n",
    "# حفظ الملف الجديد\n",
    "df.to_csv(\"cleaned_dataset.csv\", index=False)\n",
    "\n",
    "print(\"✅ تم تحويل الليبلز وحذف NEUTRAL/OBJ وحفظ الملف كـ cleaned_dataset.csv\")"
   ]
  },
  {
   "cell_type": "code",
   "execution_count": 2,
   "id": "7729cbd1",
   "metadata": {},
   "outputs": [
    {
     "name": "stdout",
     "output_type": "stream",
     "text": [
      "['اكتئاب' 'ميول انتحاريه' 'القلق']\n"
     ]
    }
   ],
   "source": [
    "import pandas as pd\n",
    "\n",
    "# قراءة الملف\n",
    "df = pd.read_excel(\"Data/final_data.xlsx\", engine='openpyxl')\n",
    "\n",
    "# عرض كل القيم الفريدة في عمود label\n",
    "print(df['label'].unique())"
   ]
  },
  {
   "cell_type": "code",
   "execution_count": 4,
   "id": "41f6a625",
   "metadata": {},
   "outputs": [
    {
     "name": "stdout",
     "output_type": "stream",
     "text": [
      "✅ تم ترجمة الليبلز وحفظ الملف كـ final_data_translated.xlsx\n"
     ]
    }
   ],
   "source": [
    "\n",
    "# دالة الترجمة\n",
    "def translate_label(label):\n",
    "    label = str(label).strip().lower()\n",
    "    if label in [\"القلق\"]:\n",
    "        return \"Anxiety\"\n",
    "    elif label in [\"اكتئاب\"]:\n",
    "        return \"Depression\"\n",
    "    elif label in [\"ميول انتحاريه\"]:\n",
    "        return \"Suicide\"\n",
    "    else:\n",
    "        return None\n",
    "\n",
    "# تطبيق الترجمة\n",
    "df[\"translated_label\"] = df[\"label\"].apply(translate_label)\n",
    "\n",
    "# حذف الصفوف التي لم يتم تصنيفها\n",
    "df = df[df[\"translated_label\"].notnull()]\n",
    "\n",
    "# حفظ الملف الجديد\n",
    "df.to_excel(\"final_data_translated.xlsx\", index=False)\n",
    "\n",
    "print(\"✅ تم ترجمة الليبلز وحفظ الملف كـ final_data_translated.xlsx\")"
   ]
  },
  {
   "cell_type": "code",
   "execution_count": 10,
   "id": "9b912b5d",
   "metadata": {},
   "outputs": [],
   "source": [
    "import pandas as pd\n",
    "\n",
    "# قراءة ملف cleaned_dataset.csv\n",
    "df1 = pd.read_csv(\"cleaned_dataset.csv\")\n",
    "\n",
    "# قراءة ملف final_data.xlsx\n",
    "df2 = pd.read_excel(\"Data/final_data.xlsx\", engine='openpyxl')\n",
    "\n",
    "# توحيد أسماء الأعمدة إذا لزم الأمر\n",
    "df2 = df2.rename(columns={\"translated_label\": \"new_label\"}) if \"translated_label\" in df2.columns else df2\n",
    "\n",
    "# إذا كان في df2 عمود label يحتاج ترجمة، طبق دالة الترجمة\n",
    "if \"new_label\" not in df2.columns and \"label\" in df2.columns:\n",
    "    def translate_label(label):\n",
    "        label = str(label).strip().lower()\n",
    "        if label in [\"القلق\"]:\n",
    "            return \"Anxiety\"\n",
    "        elif label in [\"اكتئاب\"]:\n",
    "            return \"Depression\"\n",
    "        elif label in [\"ميول انتحاريه\"]:\n",
    "            return \"Suicide\"\n",
    "        elif label in [\"ضغط\"]:\n",
    "            return \"Stress\"\n",
    "        elif label in [\"ايجابي\", \"سعيد\", \"مرتاح\", \"مبسوط\", \"فخور\", \"تمام\", \"كويس\", \"متحمس\"]:\n",
    "            return \"Normal\"\n",
    "        else:\n",
    "            return None\n",
    "    df2[\"new_label\"] = df2[\"label\"].apply(translate_label)\n",
    "    df2 = df2[df2[\"new_label\"].notnull()]\n",
    "\n",
    "# التأكد من وجود أعمدة موحدة: text, new_label\n",
    "df1 = df1[[\"text\", \"new_label\"]]\n",
    "df2 = df2[[\"text\", \"new_label\"]]\n",
    "\n",
    "# دمج الملفين\n",
    "combined_df = pd.concat([df1, df2], ignore_index=True)\n",
    "\n",
    "# حفظ الملف المدمج\n",
    "combined_df.to_csv(\"combined_dataset.csv\", index=False)\n"
   ]
  },
  {
   "cell_type": "code",
   "execution_count": 13,
   "id": "518d1bde",
   "metadata": {},
   "outputs": [
    {
     "name": "stdout",
     "output_type": "stream",
     "text": [
      "Index(['text', 'new_label'], dtype='object')\n",
      "['Normal' 'Anxiety' 'Depression' 'Stress' 'Suicide']\n",
      "Size of the dataset: 4197 rows\n"
     ]
    }
   ],
   "source": [
    "df = pd.read_csv(\"combined_dataset.csv\")\n",
    "# show columns\n",
    "print(df.columns)\n",
    "# show unique values in new_label\n",
    "print(df['new_label'].unique())\n",
    "#show the size of the dataset\n",
    "print(f\"Size of the dataset: {df.shape[0]} rows\")"
   ]
  },
  {
   "cell_type": "code",
   "execution_count": 17,
   "id": "d19919ae",
   "metadata": {},
   "outputs": [],
   "source": [
    "#read all_arabic.csv and drop text column and rename arabic_text to text\n",
    "df_arabic = pd.read_csv(\"all_arabic.csv\")\n",
    "df_arabic = df_arabic.drop(columns=[\"text\"]).rename(columns={\"arabic_text\": \"text\"})\n",
    "df_arabic = df_arabic.drop(columns=[\"arabic_label\"])\n",
    "# save the dataframe to csv\n",
    "df_arabic.to_csv(\"all_arabic.csv\", index=False)\n"
   ]
  },
  {
   "cell_type": "code",
   "execution_count": 18,
   "id": "14169161",
   "metadata": {},
   "outputs": [
    {
     "name": "stdout",
     "output_type": "stream",
     "text": [
      "✅ تم دمج combined_dataset.csv مع all_arabic.csv وحفظ الناتج في final_combined_dataset.csv\n"
     ]
    }
   ],
   "source": [
    "import pandas as pd\n",
    "\n",
    "# قراءة ملف combined_dataset.csv\n",
    "df1 = pd.read_csv(\"combined_dataset.csv\")\n",
    "\n",
    "# قراءة ملف all_arabic.csv\n",
    "df2 = pd.read_csv(\"all_arabic.csv\")\n",
    "\n",
    "# التأكد من وجود الأعمدة المطلوبة\n",
    "if \"new_label\" not in df2.columns and \"label\" in df2.columns:\n",
    "    # إذا كان هناك عمود label فقط، انسخه إلى new_label\n",
    "    df2[\"new_label\"] = df2[\"label\"]\n",
    "\n",
    "# التأكد من وجود عمود text\n",
    "df1 = df1[[\"text\", \"new_label\"]]\n",
    "df2 = df2[[\"text\", \"new_label\"]]\n",
    "\n",
    "# دمج الملفين\n",
    "final_df = pd.concat([df1, df2], ignore_index=True)\n",
    "\n",
    "# حفظ الملف النهائي\n",
    "final_df.to_csv(\"final_combined_dataset.csv\", index=False)\n",
    "\n",
    "print(\"✅ تم دمج combined_dataset.csv مع all_arabic.csv وحفظ الناتج في final_combined_dataset.csv\")"
   ]
  },
  {
   "cell_type": "code",
   "execution_count": 24,
   "id": "ebf9a8e8",
   "metadata": {},
   "outputs": [
    {
     "name": "stdout",
     "output_type": "stream",
     "text": [
      "Index(['text', 'new_label'], dtype='object')\n",
      "['Normal' 'Anxiety' 'Depression' 'Stress' 'Suicide']\n",
      "Size of the dataset: 18787 rows\n",
      "                                                text new_label\n",
      "0  أهنئ الدكتور أحمد جمال الدين، القيادي بحزب مصر...    Normal\n",
      "1  البرادعي يستقوى بامريكا مرةاخرى و يرسل عصام ال...   Anxiety\n",
      "2  امير عيد هو اللي فعلا يتقال عليه ستريكر صريح #...    Normal\n",
      "3  عودة جماعة الإخوان إلى الحياة السياسية بنفس وض...   Anxiety\n",
      "4              الصداقة تزرع الحياة أزهارًا #مي_زيادة    Normal\n"
     ]
    }
   ],
   "source": [
    "df = pd.read_csv(\"final_combined_dataset.csv\")\n",
    "# عرض الأعمدة\n",
    "print(df.columns)\n",
    "# عرض القيم الفريدة في عمود new_label\n",
    "print(df['new_label'].unique())\n",
    "# عرض حجم البيانات\n",
    "print(f\"Size of the dataset: {df.shape[0]} rows\")\n",
    "# show the first 5 rows\n",
    "print(df.head())"
   ]
  }
 ],
 "metadata": {
  "kernelspec": {
   "display_name": "Python 3",
   "language": "python",
   "name": "python3"
  },
  "language_info": {
   "codemirror_mode": {
    "name": "ipython",
    "version": 3
   },
   "file_extension": ".py",
   "mimetype": "text/x-python",
   "name": "python",
   "nbconvert_exporter": "python",
   "pygments_lexer": "ipython3",
   "version": "3.12.4"
  }
 },
 "nbformat": 4,
 "nbformat_minor": 5
}
